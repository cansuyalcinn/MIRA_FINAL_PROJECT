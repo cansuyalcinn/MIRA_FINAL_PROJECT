{
 "cells": [
  {
   "cell_type": "markdown",
   "metadata": {},
   "source": [
    "# Libraries"
   ]
  },
  {
   "cell_type": "code",
   "execution_count": 1,
   "metadata": {},
   "outputs": [],
   "source": [
    "from pathlib import Path\n",
    "import os\n",
    "import SimpleITK as sitk\n",
    "import numpy as np"
   ]
  },
  {
   "cell_type": "code",
   "execution_count": 2,
   "metadata": {},
   "outputs": [
    {
     "name": "stdout",
     "output_type": "stream",
     "text": [
      "current directory is: /home/ricardino/Documents/MAIA/tercer_semestre/MIRA/final_project/MIRA_FINAL_PROJECT/notebooks\n"
     ]
    }
   ],
   "source": [
    "notebooks_path = Path.cwd()\n",
    "repo_path = notebooks_path.parent\n",
    "print(f'current directory is: {notebooks_path}')\n",
    "\n",
    "import utils_ric as utils\n",
    "from info import patient"
   ]
  },
  {
   "cell_type": "markdown",
   "metadata": {},
   "source": [
    "# Function"
   ]
  },
  {
   "cell_type": "code",
   "execution_count": null,
   "metadata": {},
   "outputs": [],
   "source": [
    "def image_registration(fixed_image, moving_image):\n",
    "    \"\"\"Give two images and the registration of both, and its transformation map will be given\n",
    "\n",
    "    Args:\n",
    "        fixed_image (sitk image): fixed (template) image\n",
    "        moving_image (sitk image): moving image (image that will be transformed)\n",
    "\n",
    "    Returns:\n",
    "        sitk image, transformix map: transformed image and the transformation map\n",
    "    \"\"\"\n",
    "\n",
    "    #Start registration settings\n",
    "    elastixImageFilter = sitk.ElastixImageFilter() #Image filter object\n",
    "    #Defining settings\n",
    "    elastixImageFilter.SetFixedImage(fixed_image)\n",
    "    elastixImageFilter.SetMovingImage(moving_image)\n",
    "\n",
    "    #Run registration\n",
    "    elastixImageFilter.Execute()\n",
    "\n",
    "    #Get result image\n",
    "    resultImage = elastixImageFilter.GetResultImage()\n",
    "\n",
    "    #Transformation map\n",
    "    transformParameterMap = elastixImageFilter.GetTransformParameterMap()\n",
    "    #Set resampler interpolator as NearestNeighbor\n",
    "    transformParameterMap[0][\"ResampleInterpolator\"] = [\"FinalNearestNeighborInterpolator\"]\n",
    "    transformParameterMap[1][\"ResampleInterpolator\"] = [\"FinalNearestNeighborInterpolator\"]    \n",
    "    transformParameterMap[2][\"ResampleInterpolator\"] = [\"FinalNearestNeighborInterpolator\"]\n",
    "    return resultImage, transformParameterMap"
   ]
  },
  {
   "cell_type": "markdown",
   "metadata": {},
   "source": [
    "# EMP"
   ]
  },
  {
   "cell_type": "code",
   "execution_count": 9,
   "metadata": {},
   "outputs": [
    {
     "data": {
      "text/plain": [
       "array([[[-2000, -2000, -2000, ..., -2000, -2000, -2000],\n",
       "        [-2000, -2000, -2000, ..., -2000, -2000, -2000],\n",
       "        [-2000, -2000, -2000, ..., -2000, -2000, -2000],\n",
       "        ...,\n",
       "        [-2000, -2000, -2000, ..., -2000, -2000, -2000],\n",
       "        [-2000, -2000, -2000, ..., -2000, -2000, -2000],\n",
       "        [-2000, -2000, -2000, ..., -2000, -2000, -2000]],\n",
       "\n",
       "       [[-2000, -2000, -2000, ..., -2000, -2000, -2000],\n",
       "        [-2000, -2000, -2000, ..., -2000, -2000, -2000],\n",
       "        [-2000, -2000, -2000, ..., -2000, -2000, -2000],\n",
       "        ...,\n",
       "        [-2000, -2000, -2000, ..., -2000, -2000, -2000],\n",
       "        [-2000, -2000, -2000, ..., -2000, -2000, -2000],\n",
       "        [-2000, -2000, -2000, ..., -2000, -2000, -2000]],\n",
       "\n",
       "       [[-2000, -2000, -2000, ..., -2000, -2000, -2000],\n",
       "        [-2000, -2000, -2000, ..., -2000, -2000, -2000],\n",
       "        [-2000, -2000, -2000, ..., -2000, -2000, -2000],\n",
       "        ...,\n",
       "        [-2000, -2000, -2000, ..., -2000, -2000, -2000],\n",
       "        [-2000, -2000, -2000, ..., -2000, -2000, -2000],\n",
       "        [-2000, -2000, -2000, ..., -2000, -2000, -2000]],\n",
       "\n",
       "       ...,\n",
       "\n",
       "       [[-2000, -2000, -2000, ..., -2000, -2000, -2000],\n",
       "        [-2000, -2000, -2000, ..., -2000, -2000, -2000],\n",
       "        [-2000, -2000, -2000, ..., -2000, -2000, -2000],\n",
       "        ...,\n",
       "        [-2000, -2000, -2000, ..., -2000, -2000, -2000],\n",
       "        [-2000, -2000, -2000, ..., -2000, -2000, -2000],\n",
       "        [-2000, -2000, -2000, ..., -2000, -2000, -2000]],\n",
       "\n",
       "       [[-2000, -2000, -2000, ..., -2000, -2000, -2000],\n",
       "        [-2000, -2000, -2000, ..., -2000, -2000, -2000],\n",
       "        [-2000, -2000, -2000, ..., -2000, -2000, -2000],\n",
       "        ...,\n",
       "        [-2000, -2000, -2000, ..., -2000, -2000, -2000],\n",
       "        [-2000, -2000, -2000, ..., -2000, -2000, -2000],\n",
       "        [-2000, -2000, -2000, ..., -2000, -2000, -2000]],\n",
       "\n",
       "       [[-2000, -2000, -2000, ..., -2000, -2000, -2000],\n",
       "        [-2000, -2000, -2000, ..., -2000, -2000, -2000],\n",
       "        [-2000, -2000, -2000, ..., -2000, -2000, -2000],\n",
       "        ...,\n",
       "        [-2000, -2000, -2000, ..., -2000, -2000, -2000],\n",
       "        [-2000, -2000, -2000, ..., -2000, -2000, -2000],\n",
       "        [-2000, -2000, -2000, ..., -2000, -2000, -2000]]], dtype=int16)"
      ]
     },
     "execution_count": 9,
     "metadata": {},
     "output_type": "execute_result"
    }
   ],
   "source": [
    "pat = patient(num=1)\n",
    "pat.im_array('i')"
   ]
  }
 ],
 "metadata": {
  "kernelspec": {
   "display_name": "Python 3.10.6 64-bit",
   "language": "python",
   "name": "python3"
  },
  "language_info": {
   "codemirror_mode": {
    "name": "ipython",
    "version": 3
   },
   "file_extension": ".py",
   "mimetype": "text/x-python",
   "name": "python",
   "nbconvert_exporter": "python",
   "pygments_lexer": "ipython3",
   "version": "3.10.6"
  },
  "orig_nbformat": 4,
  "vscode": {
   "interpreter": {
    "hash": "e7370f93d1d0cde622a1f8e1c04877d8463912d04d973331ad4851f04de6915a"
   }
  }
 },
 "nbformat": 4,
 "nbformat_minor": 2
}

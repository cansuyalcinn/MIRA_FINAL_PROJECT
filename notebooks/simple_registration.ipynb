{
 "cells": [
  {
   "cell_type": "markdown",
   "metadata": {},
   "source": [
    "# Libraries"
   ]
  },
  {
   "cell_type": "code",
   "execution_count": 1,
   "metadata": {},
   "outputs": [],
   "source": [
    "from pathlib import Path\n",
    "import SimpleITK as sitk\n",
    "import numpy as np\n",
    "import matplotlib.pyplot as plt\n",
    "import shutil\n",
    "import pandas as pd\n",
    "from tqdm import tqdm\n",
    "import time"
   ]
  },
  {
   "cell_type": "code",
   "execution_count": 2,
   "metadata": {},
   "outputs": [
    {
     "name": "stdout",
     "output_type": "stream",
     "text": [
      "current directory is: d:\\VS_Projects\\MIRA_FINAL_PROJECT\\MIRA_FINAL_PROJECT\\notebooks\n"
     ]
    }
   ],
   "source": [
    "notebooks_path = Path.cwd()\n",
    "repo_path = notebooks_path.parent\n",
    "print(f'current directory is: {notebooks_path}')\n",
    "\n",
    "import utils_ric as utils\n",
    "from info import patient"
   ]
  },
  {
   "cell_type": "markdown",
   "metadata": {},
   "source": [
    "# Functions"
   ]
  },
  {
   "cell_type": "code",
   "execution_count": 3,
   "metadata": {},
   "outputs": [],
   "source": [
    "def image_registration(pat, fixed_image, moving_image, param_files=None, mask=False):\n",
    "    \"\"\"Give two images and they will be registered. The outputs are the moving image registered the transformation map.\n",
    "\n",
    "    Args:\n",
    "        fixed_image (sitk image): fixed (template) image\n",
    "        moving_image (sitk image): moving image (image that will be transformed)\n",
    "\n",
    "    Returns:\n",
    "        sitk image, transformix map: transformed image and the transformation map\n",
    "    \"\"\"\n",
    "    #Start registration settings\n",
    "    elastixImageFilter = sitk.ElastixImageFilter() #Image filter object\n",
    "    #Set parameter file\n",
    "    if param_files is not None: #if the user gives a parameter file\n",
    "        if len(param_files) == 1: #if the user gives only one parameter file\n",
    "            elastixImageFilter.SetParameterMap(param_files[0])\n",
    "        else: #if the user gives more than one parameter file\n",
    "            parameterMapVector = sitk.VectorOfParameterMap()\n",
    "            for param_file in param_files:\n",
    "                parameterMapVector.append(param_file)\n",
    "            elastixImageFilter.SetParameterMap(parameterMapVector)\n",
    "    #Set images\n",
    "    elastixImageFilter.SetFixedImage(fixed_image)\n",
    "    elastixImageFilter.SetMovingImage(moving_image)\n",
    "    #set masks\n",
    "    if mask:\n",
    "        fixed_mask = sitk.ReadImage(str(repo_path / 'data' / 'masks' / f'pat{pat.pat_num}_i_lungmask.nrrd'))\n",
    "        moving_mask = sitk.ReadImage(str(repo_path / 'data' / 'masks' / f'pat{pat.pat_num}_e_lungmask.nrrd'))\n",
    "        #change spacing to match the images\n",
    "        fixed_mask.SetSpacing(fixed_image.GetSpacing())\n",
    "        moving_mask.SetSpacing(moving_image.GetSpacing())\n",
    "        elastixImageFilter.SetFixedMask(fixed_mask)\n",
    "        elastixImageFilter.SetMovingMask(moving_mask)\n",
    "    \n",
    "    #Run registration\n",
    "    elastixImageFilter.Execute()\n",
    "\n",
    "    #Get result image\n",
    "    resultImage = elastixImageFilter.GetResultImage()\n",
    "\n",
    "    #Transformation map\n",
    "    transformParameterMap = elastixImageFilter.GetTransformParameterMap()\n",
    "    \n",
    "    return resultImage, transformParameterMap"
   ]
  },
  {
   "cell_type": "code",
   "execution_count": 4,
   "metadata": {},
   "outputs": [],
   "source": [
    "def read_param_files(name_list):\n",
    "    \"\"\"read list of parameter files and convert to list of sitk parameter maps\n",
    "\n",
    "    Args:\n",
    "        name_list (list): list with name of the parameter maps\n",
    "\n",
    "    Returns:\n",
    "        list: list of sitk parameter maps\n",
    "    \"\"\"\n",
    "    param_files = [] #list of parameter maps\n",
    "    for path in name_list: #iterate over the list of parameter files\n",
    "        param_files.append(sitk.ReadParameterFile(str(repo_path / 'data/parameterfiles' / path))) #transform to sitk parameter map and append to list\n",
    "    return param_files"
   ]
  },
  {
   "cell_type": "code",
   "execution_count": 5,
   "metadata": {},
   "outputs": [],
   "source": [
    "def register_points(pat, transformParameterMap, points_path, transformation_name):\n",
    "    \"\"\"Register points using the transformation map\n",
    "        IMPORTANT: the points must be in the same space as the moving image\n",
    "            - This happens because the transformation maps the moving image to the fixed image\n",
    "            - This is contrary to what usually happens in image registration\n",
    "            - See SimpleElastix documentation for more information\n",
    "\n",
    "    Args:\n",
    "        transformParameterMap (transformix map): transformation map\n",
    "        points_path (str): path to pts file (txt file with points)\n",
    "        moving_image (sitk image): moving image (reference image)\n",
    "        pat (obj): patient object\n",
    "\n",
    "    Returns:\n",
    "        Nothing: the points are saved in a txt file\n",
    "    \"\"\"\n",
    "    #Transformix filter object\n",
    "    transformixImageFilter = sitk.TransformixImageFilter()\n",
    "    #Set transformation map\n",
    "    transformixImageFilter.SetTransformParameterMap(transformParameterMap)\n",
    "    #Set points\n",
    "    transformixImageFilter.SetFixedPointSetFileName(str(repo_path / points_path))\n",
    "    #Set moving image (needed to get spacial information)\n",
    "    transformixImageFilter.SetMovingImage(pat.im_sitk('e')) \n",
    "    #Run transformation\n",
    "    transformixImageFilter.Execute()\n",
    "    \n",
    "    #change name and relocate outputpoints.txt file\n",
    "    old_name = notebooks_path / 'outputpoints.txt'\n",
    "    new_name = repo_path / 'data/transformed_keypoints' / f'outputpoints_pat{pat.pat_num}_trans-{transformation_name}.txt'\n",
    "    shutil.move(old_name, new_name)"
   ]
  },
  {
   "cell_type": "code",
   "execution_count": 6,
   "metadata": {},
   "outputs": [],
   "source": [
    "def read_outputpoints(points_name):\n",
    "    \"\"\"Read the outputpoints.txt file and return the coordinates of the points\n",
    "    \n",
    "        args:\n",
    "            points_name (str): path to the outputpoints.txt file\n",
    "        returns:\n",
    "            numpy array: array with the coordinates of the points\n",
    "    \"\"\" \n",
    "    df = pd.read_csv(str(repo_path / f'data/transformed_keypoints' / points_name), sep=\"\\t\", header=None)\n",
    "    #get column 5 (where the output points are)\n",
    "    outpoints = df.iloc[:, 5]\n",
    "    #remove text to keep just x y z coordinates\n",
    "    outpoints = outpoints.str.replace('; OutputPoint = \\[ ', '', regex=True)\n",
    "    outpoints = outpoints.str.replace(' \\]', '', regex=True)\n",
    "    #transform to numpy the series with the coordinates separated by \\tab\n",
    "    outpoints = outpoints.str.split(' ', expand=True).to_numpy(dtype=float)\n",
    "    return abs(outpoints) #absolute value because the z coordinates are negative (we inverted the axis for visualization)"
   ]
  },
  {
   "cell_type": "code",
   "execution_count": 7,
   "metadata": {},
   "outputs": [],
   "source": [
    "def compute_tre(pat, transformation_name, start_time, show=False, save=False):\n",
    "    \"\"\"compute the mean and std of the tre between the exhale points and the transformed points\n",
    "\n",
    "    Args:\n",
    "        pat (obj): patient object\n",
    "        transformation_name (str): transformation name, used to store the csv file\n",
    "        show (bool, optional): print mean and std. Defaults to False.\n",
    "        save (bool, optional): save csv file. Defaults to False.\n",
    "    \"\"\"\n",
    "    #read txt file with transformed points\n",
    "    points_name = f'outputpoints_pat{pat.pat_num}_trans-{transformation_name}.txt'\n",
    "    outpoints = read_outputpoints(points_name)\n",
    "    #get exhale points to compare\n",
    "    exhale_points = pat.get_landmark('e')\n",
    "    #compute tre\n",
    "    tre = utils.calculate_tre(outpoints, exhale_points)\n",
    "    if show:\n",
    "        #print mean and std\n",
    "        print(f'mean tre: {np.mean(tre)}')\n",
    "        print(f'std tre: {np.std(tre)}')\n",
    "\n",
    "    #save as csv file\n",
    "    if not save: #if save is False, exit function\n",
    "        return\n",
    "    #defined csv file name\n",
    "    csv_name = f'tre_trans-{transformation_name}.csv'\n",
    "    csv_path = repo_path / 'data/results' / csv_name\n",
    "    #check if file already exists\n",
    "    if csv_path.is_file():\n",
    "        #if it exists, read it\n",
    "        df = pd.read_csv(csv_path)\n",
    "        if len(df)==4: #if the length is 4, it means that the csv file is full, so we exit the function\n",
    "            return\n",
    "        #add new row\n",
    "        df = pd.concat([df, \n",
    "            pd.DataFrame([{\n",
    "                'patient': pat.pat_num,\n",
    "                'mean_tre': np.mean(tre),\n",
    "                'std_tre' : np.std(tre),\n",
    "                'time': time.time() - start_time\n",
    "            }])], ignore_index=True\n",
    "        )\n",
    "    else: #if it doesn't exist, create it\n",
    "        df = pd.DataFrame(\n",
    "            {\n",
    "                'patient': pat.pat_num,\n",
    "                'mean_tre': np.mean(tre),\n",
    "                'std_tre' : np.std(tre),\n",
    "                'time': time.time() - start_time\n",
    "            }, index=[0]\n",
    "        )\n",
    "    #save csv file\n",
    "    df.to_csv(csv_path, index=False)"
   ]
  },
  {
   "cell_type": "code",
   "execution_count": 8,
   "metadata": {},
   "outputs": [],
   "source": [
    "def get_param_files(param_names, mask=False):\n",
    "    \"\"\"read list of param file names and return sitk parameter maps and transformation name\n",
    "\n",
    "    Args:\n",
    "        param_names (list): list of param file names\n",
    "\n",
    "    Returns:\n",
    "        list, str: list of sitk parameter maps, transformation name to save the outputs\n",
    "    \"\"\"\n",
    "    mask_status = 'mask' if mask else 'no_mask'\n",
    "    param_files = read_param_files(param_names) #read files to sitk objects\n",
    "    transformation_name = Path(param_names[-1]).stem + f'_comp-{len(param_names)}_{mask_status}' #name to save the outputs\n",
    "    \n",
    "    return param_files, transformation_name\n"
   ]
  },
  {
   "cell_type": "markdown",
   "metadata": {},
   "source": [
    "# MAIN"
   ]
  },
  {
   "cell_type": "markdown",
   "metadata": {},
   "source": [
    "## Image registration"
   ]
  },
  {
   "cell_type": "markdown",
   "metadata": {},
   "source": [
    "Now we can register the images. We just have to give the fixed image, moving image and the parameter file."
   ]
  },
  {
   "cell_type": "code",
   "execution_count": 11,
   "metadata": {},
   "outputs": [
    {
     "name": "stderr",
     "output_type": "stream",
     "text": [
      " 25%|██▌       | 1/4 [06:19<18:58, 379.64s/it]"
     ]
    },
    {
     "name": "stdout",
     "output_type": "stream",
     "text": [
      "mean tre: 1.8143107356864778\n",
      "std tre: 2.3454930062075774\n"
     ]
    },
    {
     "name": "stderr",
     "output_type": "stream",
     "text": [
      " 50%|█████     | 2/4 [11:27<11:14, 337.13s/it]"
     ]
    },
    {
     "name": "stdout",
     "output_type": "stream",
     "text": [
      "mean tre: 4.3622983305643155\n",
      "std tre: 5.414906142764656\n"
     ]
    },
    {
     "name": "stderr",
     "output_type": "stream",
     "text": [
      " 75%|███████▌  | 3/4 [17:48<05:57, 357.58s/it]"
     ]
    },
    {
     "name": "stdout",
     "output_type": "stream",
     "text": [
      "mean tre: 1.4814670796092793\n",
      "std tre: 1.2236635024392597\n"
     ]
    },
    {
     "name": "stderr",
     "output_type": "stream",
     "text": [
      "100%|██████████| 4/4 [23:12<00:00, 348.17s/it]"
     ]
    },
    {
     "name": "stdout",
     "output_type": "stream",
     "text": [
      "mean tre: 3.277506131946995\n",
      "std tre: 3.6612369579834043\n"
     ]
    },
    {
     "name": "stderr",
     "output_type": "stream",
     "text": [
      "\n"
     ]
    }
   ],
   "source": [
    "#INPUT USER\n",
    "param_names = ['elastix_default_bspline_common_nres5_mni1000.txt', 'elastix_default_affine_common_nres5_mni1000.txt'] #list of files to use\n",
    "mask = True #use mask or not\n",
    "\n",
    "for i in tqdm(range(1, 5)): #go through all patients\n",
    "    #start timer\n",
    "    start_time = time.time()\n",
    "    #define patient\n",
    "    pat = patient(num=i)\n",
    "    #Get param map files and transformation name\n",
    "    param_files, transformation_name = get_param_files(param_names, mask) #read files to sitk objects and get transformation name\n",
    "    #run registration\n",
    "    _, transformParameterMap = image_registration(pat, fixed_image=pat.im_sitk('i'), moving_image = pat.im_sitk('e'), param_files=param_files, mask=mask)\n",
    "    #transform the points. They will be saved in a txt file\n",
    "    register_points(pat, transformParameterMap, points_path = pat.points_path(type='i', format='pts'), transformation_name=transformation_name)\n",
    "    #compute tre and save csv file\n",
    "    compute_tre(pat, transformation_name, start_time, show=True, save=True)"
   ]
  }
 ],
 "metadata": {
  "kernelspec": {
   "display_name": "mira_final",
   "language": "python",
   "name": "python3"
  },
  "language_info": {
   "codemirror_mode": {
    "name": "ipython",
    "version": 3
   },
   "file_extension": ".py",
   "mimetype": "text/x-python",
   "name": "python",
   "nbconvert_exporter": "python",
   "pygments_lexer": "ipython3",
   "version": "3.9.13"
  },
  "orig_nbformat": 4,
  "vscode": {
   "interpreter": {
    "hash": "280ef304654e35d4ae3534359de99b0275e5e5ff875ede518ffb2da5b95faae5"
   }
  }
 },
 "nbformat": 4,
 "nbformat_minor": 2
}

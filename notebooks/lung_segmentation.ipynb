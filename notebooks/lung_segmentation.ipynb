{
 "cells": [
  {
   "attachments": {},
   "cell_type": "markdown",
   "metadata": {},
   "source": [
    "# Library"
   ]
  },
  {
   "cell_type": "code",
   "execution_count": 1,
   "metadata": {},
   "outputs": [],
   "source": [
    "\n",
    "from pathlib import Path\n",
    "import numpy as np\n",
    "import matplotlib.pyplot as plt\n",
    "import shutil\n",
    "import pandas as pd\n",
    "from tqdm import tqdm\n",
    "import time\n",
    "import nibabel as nib\n",
    "\n",
    "from lungmask import mask\n",
    "import SimpleITK as sitk"
   ]
  },
  {
   "cell_type": "code",
   "execution_count": 2,
   "metadata": {},
   "outputs": [
    {
     "name": "stdout",
     "output_type": "stream",
     "text": [
      "current directory is: /home/ricardino/Documents/MAIA/tercer_semestre/MIRA/final_project/MIRA_FINAL_PROJECT/notebooks\n"
     ]
    }
   ],
   "source": [
    "notebooks_path = Path.cwd()\n",
    "repo_path = notebooks_path.parent\n",
    "print(f'current directory is: {notebooks_path}')\n",
    "\n",
    "import utils_ric as utils\n",
    "from info import patient"
   ]
  },
  {
   "attachments": {},
   "cell_type": "markdown",
   "metadata": {},
   "source": [
    "# Main"
   ]
  },
  {
   "cell_type": "code",
   "execution_count": 3,
   "metadata": {},
   "outputs": [],
   "source": [
    "# save the array as a new nifti image\n",
    "def save_as_nifti(array, filename, reference_image):\n",
    "    \"\"\"Save array as nifti image\n",
    "\n",
    "    Args:\n",
    "        array (array): array to be saved\n",
    "        filename (str): path to save\n",
    "        reference_image (str): path of reference image\n",
    "    \"\"\"\n",
    "    reference_image = sitk.ReadImage(reference_image)\n",
    "    image = sitk.GetImageFromArray(array)\n",
    "    image.SetOrigin(reference_image.GetOrigin())\n",
    "    image.SetSpacing(reference_image.GetSpacing())\n",
    "    image.SetDirection(reference_image.GetDirection())\n",
    "    sitk.WriteImage(image, filename)"
   ]
  },
  {
   "cell_type": "code",
   "execution_count": 4,
   "metadata": {},
   "outputs": [
    {
     "name": "stdout",
     "output_type": "stream",
     "text": [
      "INFO:root:No GPU support available, will use CPU. Note, that this is significantly slower!\n"
     ]
    },
    {
     "name": "stderr",
     "output_type": "stream",
     "text": [
      "100%|██████████| 121/121 [00:50<00:00,  2.38it/s]\n",
      "100%|██████████| 2/2 [00:00<00:00, 528.22it/s]\n"
     ]
    },
    {
     "name": "stdout",
     "output_type": "stream",
     "text": [
      "INFO:root:No GPU support available, will use CPU. Note, that this is significantly slower!\n"
     ]
    },
    {
     "name": "stderr",
     "output_type": "stream",
     "text": [
      "100%|██████████| 121/121 [00:49<00:00,  2.44it/s]\n",
      "100%|██████████| 2/2 [00:00<00:00, 776.36it/s]\n"
     ]
    },
    {
     "name": "stdout",
     "output_type": "stream",
     "text": [
      "INFO:root:No GPU support available, will use CPU. Note, that this is significantly slower!\n"
     ]
    },
    {
     "name": "stderr",
     "output_type": "stream",
     "text": [
      "100%|██████████| 102/102 [00:40<00:00,  2.52it/s]\n",
      "100%|██████████| 3/3 [00:00<00:00, 1569.72it/s]\n"
     ]
    },
    {
     "name": "stdout",
     "output_type": "stream",
     "text": [
      "INFO:root:No GPU support available, will use CPU. Note, that this is significantly slower!\n"
     ]
    },
    {
     "name": "stderr",
     "output_type": "stream",
     "text": [
      "100%|██████████| 102/102 [00:40<00:00,  2.54it/s]\n",
      "100%|██████████| 2/2 [00:00<00:00, 1429.80it/s]\n"
     ]
    },
    {
     "name": "stdout",
     "output_type": "stream",
     "text": [
      "INFO:root:No GPU support available, will use CPU. Note, that this is significantly slower!\n"
     ]
    },
    {
     "name": "stderr",
     "output_type": "stream",
     "text": [
      "100%|██████████| 126/126 [00:50<00:00,  2.52it/s]\n",
      "100%|██████████| 2/2 [00:00<00:00, 708.38it/s]\n"
     ]
    },
    {
     "name": "stdout",
     "output_type": "stream",
     "text": [
      "INFO:root:No GPU support available, will use CPU. Note, that this is significantly slower!\n"
     ]
    },
    {
     "name": "stderr",
     "output_type": "stream",
     "text": [
      "100%|██████████| 126/126 [00:53<00:00,  2.34it/s]\n",
      "100%|██████████| 2/2 [00:00<00:00, 554.29it/s]\n"
     ]
    }
   ],
   "source": [
    "for i in range(5,8):\n",
    "    for type_name in ['i', 'e']:\n",
    "        pat = patient(num=i)\n",
    "        im = pat.im_array(type=type_name) -1024 #convert to HU\n",
    "        #turn to sitk image\n",
    "        im = sitk.GetImageFromArray(im)\n",
    "        \n",
    "        #get additional model\n",
    "        model = mask.get_model('unet','R231CovidWeb')\n",
    "    \n",
    "        #segment\n",
    "        segmentation = mask.apply(im, model)\n",
    "        #combine label 1 and 2\n",
    "        segmentation[segmentation == 2] = 1\n",
    "        \n",
    "        #save segmentation as nrrd file\n",
    "        #first copy the information from the original im image\n",
    "\n",
    "        file_name = str(repo_path / f'data/masks_unet2/pat{i}_{type_name}_lungmask.nrrd')\n",
    "\n",
    "        save_as_nifti(segmentation, file_name, str(repo_path / pat.im_path(type=type_name)))\n"
   ]
  }
 ],
 "metadata": {
  "kernelspec": {
   "display_name": "seg_lung",
   "language": "python",
   "name": "python3"
  },
  "language_info": {
   "codemirror_mode": {
    "name": "ipython",
    "version": 3
   },
   "file_extension": ".py",
   "mimetype": "text/x-python",
   "name": "python",
   "nbconvert_exporter": "python",
   "pygments_lexer": "ipython3",
   "version": "3.9.12 (main, Jun  1 2022, 11:38:51) \n[GCC 7.5.0]"
  },
  "orig_nbformat": 4,
  "vscode": {
   "interpreter": {
    "hash": "dd1ea00f9690239a7f2bc947f125f1190ff59f1d146bcaad9afe186a26bfbbd7"
   }
  }
 },
 "nbformat": 4,
 "nbformat_minor": 2
}

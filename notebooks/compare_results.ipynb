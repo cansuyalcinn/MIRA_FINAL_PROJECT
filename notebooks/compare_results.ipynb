{
 "cells": [
  {
   "cell_type": "code",
   "execution_count": 6,
   "metadata": {},
   "outputs": [
    {
     "name": "stdout",
     "output_type": "stream",
     "text": [
      "current directory is: d:\\VS_Projects\\MIRA_FINAL_PROJECT\\MIRA_FINAL_PROJECT\\notebooks\n"
     ]
    }
   ],
   "source": [
    "\n",
    "from pathlib import Path\n",
    "import SimpleITK as sitk\n",
    "import numpy as np\n",
    "import matplotlib.pyplot as plt\n",
    "import shutil\n",
    "import pandas as pd\n",
    "from tqdm import tqdm\n",
    "import time\n",
    "\n",
    "notebooks_path = Path.cwd()\n",
    "repo_path = notebooks_path.parent\n",
    "print(f'current directory is: {notebooks_path}')\n",
    "\n",
    "import utils_ric as utils\n",
    "from info import patient\n",
    "\n",
    "#get all paths for file in the result folder\n",
    "result_path  = repo_path / 'data/results'\n",
    "result_paths = list(result_path.glob('**/*.csv'))\n",
    "comparison_df = pd.DataFrame(columns=['method', 'pat_mean', 'pat_std', 'time'])\n",
    "for i in result_paths:\n",
    "    #read the csv file\n",
    "    df = pd.read_csv(i)\n",
    "    #get the method name\n",
    "    method = i.stem\n",
    "    #get mean_tre column and get the mean\n",
    "    mean_tre = df['mean_tre'].mean()\n",
    "    #same for std\n",
    "    std_tre = df['std_tre'].mean()\n",
    "    #and for time\n",
    "    time = df['time'].mean()\n",
    "    #concate values in comparison using concat\n",
    "    comparison_df = pd.concat([comparison_df, pd.DataFrame([[method, mean_tre, std_tre, time]], columns=['method', 'pat_mean', 'pat_std', 'time'])], ignore_index=True)\n",
    "#save a xlsx file with the comparison\n",
    "comparison_df.to_excel(repo_path / 'data/results/comparison.xlsx', index=False)\n"
   ]
  }
 ],
 "metadata": {
  "kernelspec": {
   "display_name": "mira_final",
   "language": "python",
   "name": "python3"
  },
  "language_info": {
   "codemirror_mode": {
    "name": "ipython",
    "version": 3
   },
   "file_extension": ".py",
   "mimetype": "text/x-python",
   "name": "python",
   "nbconvert_exporter": "python",
   "pygments_lexer": "ipython3",
   "version": "3.9.13"
  },
  "orig_nbformat": 4,
  "vscode": {
   "interpreter": {
    "hash": "280ef304654e35d4ae3534359de99b0275e5e5ff875ede518ffb2da5b95faae5"
   }
  }
 },
 "nbformat": 4,
 "nbformat_minor": 2
}
